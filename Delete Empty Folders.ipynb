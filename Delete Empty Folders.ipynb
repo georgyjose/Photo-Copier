{
 "cells": [
  {
   "cell_type": "code",
   "execution_count": 123,
   "metadata": {},
   "outputs": [],
   "source": [
    "from pathlib import Path\n",
    "import os"
   ]
  },
  {
   "cell_type": "code",
   "execution_count": 124,
   "metadata": {},
   "outputs": [],
   "source": [
    "directory_root = '/Users/georgyjose/Documents/backup_photos_clearing_empty_folders/'\n",
    "dir_list = []"
   ]
  },
  {
   "cell_type": "code",
   "execution_count": 125,
   "metadata": {},
   "outputs": [],
   "source": [
    "previous_no_of_directories = len(dir_list)"
   ]
  },
  {
   "cell_type": "code",
   "execution_count": 126,
   "metadata": {},
   "outputs": [],
   "source": [
    "while(True):\n",
    "    dir_list = []\n",
    "    \n",
    "    for root, dirs, files in os.walk(directory_root):\n",
    "        dir_list.append(root)\n",
    "    \n",
    "    if(len(dir_list) == previous_no_of_directories):\n",
    "        break\n",
    "    \n",
    "    for i in dir_list:\n",
    "        if(len(os.listdir(str(i)))==0):\n",
    "            os.rmdir(i)\n",
    "        \n",
    "    previous_no_of_directories = len(dir_list)"
   ]
  },
  {
   "cell_type": "code",
   "execution_count": 127,
   "metadata": {},
   "outputs": [
    {
     "data": {
      "text/plain": [
       "1114"
      ]
     },
     "execution_count": 127,
     "metadata": {},
     "output_type": "execute_result"
    }
   ],
   "source": [
    "previous_no_of_directories"
   ]
  },
  {
   "cell_type": "code",
   "execution_count": null,
   "metadata": {},
   "outputs": [],
   "source": []
  }
 ],
 "metadata": {
  "kernelspec": {
   "display_name": "Python 3",
   "language": "python",
   "name": "python3"
  },
  "language_info": {
   "codemirror_mode": {
    "name": "ipython",
    "version": 3
   },
   "file_extension": ".py",
   "mimetype": "text/x-python",
   "name": "python",
   "nbconvert_exporter": "python",
   "pygments_lexer": "ipython3",
   "version": "3.7.5"
  }
 },
 "nbformat": 4,
 "nbformat_minor": 4
}
