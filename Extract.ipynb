{
 "cells": [
  {
   "cell_type": "code",
   "execution_count": 2,
   "metadata": {},
   "outputs": [],
   "source": [
    "from pathlib import Path\n",
    "import hashlib\n",
    "import pickle\n",
    "import logging\n",
    "import os\n",
    "import shutil\n",
    "import sys"
   ]
  },
  {
   "cell_type": "code",
   "execution_count": 3,
   "metadata": {},
   "outputs": [],
   "source": [
    "source_path = '/Volumes/320 GB/' #Specify the source location here\n",
    "destination_path = '/Users/georgyjose/Documents/backup_photos/' #Specify the target location here\n",
    "existing_hashes = 'hashes.pickle'\n",
    "existing_logs = 'errors.pickle'"
   ]
  },
  {
   "cell_type": "code",
   "execution_count": 4,
   "metadata": {},
   "outputs": [],
   "source": [
    "def hash_file(filepath):\n",
    "    with open(filepath, 'rb') as f:\n",
    "        return hashlib.md5(f.read()).hexdigest()"
   ]
  },
  {
   "cell_type": "code",
   "execution_count": 5,
   "metadata": {},
   "outputs": [],
   "source": [
    "def clear_hashes():\n",
    "    pickle_out = open(existing_hashes,\"wb\")\n",
    "    pickle.dump([], pickle_out)\n",
    "    pickle_out.close()"
   ]
  },
  {
   "cell_type": "code",
   "execution_count": 6,
   "metadata": {},
   "outputs": [],
   "source": [
    "def read_hashes():\n",
    "    pickle_in = open(existing_hashes,\"rb\")\n",
    "    hash_list = pickle.load(pickle_in)\n",
    "    return hash_list"
   ]
  },
  {
   "cell_type": "code",
   "execution_count": 7,
   "metadata": {},
   "outputs": [],
   "source": [
    "def write_hashes(hash_list):\n",
    "    pickle_out = open(existing_hashes,\"wb\")\n",
    "    pickle.dump(hash_list, pickle_out)\n",
    "    pickle_out.close()"
   ]
  },
  {
   "cell_type": "code",
   "execution_count": 8,
   "metadata": {},
   "outputs": [],
   "source": [
    "def is_duplicate(image):\n",
    "    existing_hashes = read_hashes()\n",
    "    hash_of_image = hash_file(image)\n",
    "    if hash_of_image in existing_hashes:\n",
    "        return True\n",
    "    else:\n",
    "        existing_hashes.append(hash_of_image)\n",
    "        write_hashes(existing_hashes)\n",
    "        return False"
   ]
  },
  {
   "cell_type": "code",
   "execution_count": 9,
   "metadata": {},
   "outputs": [],
   "source": [
    "img_file_formats = ['.jpx',\n",
    " '.jpg',\n",
    " '.gif',\n",
    " '.jfif',\n",
    " '.j2k',\n",
    " '.jif',\n",
    " '.j2c',\n",
    " '.jp2',\n",
    " '.fpx',\n",
    " '.png',\n",
    " '.jpeg',\n",
    " '.tif',\n",
    " '.pcd',\n",
    " '.tiff']"
   ]
  },
  {
   "cell_type": "code",
   "execution_count": 10,
   "metadata": {},
   "outputs": [],
   "source": [
    "# clear_hashes()\n",
    "logging.basicConfig(filename='app.log', filemode='w', format='%(name)s - %(levelname)s - %(message)s')"
   ]
  },
  {
   "cell_type": "code",
   "execution_count": 11,
   "metadata": {},
   "outputs": [
    {
     "name": "stdout",
     "output_type": "stream",
     "text": [
      "76041 files copied.76041 image files copied in total.\n",
      "157857 duplicate files were ignored.\n"
     ]
    }
   ],
   "source": [
    "files_copied = 0\n",
    "duplicate_files = 0\n",
    "for root, dirs, files in os.walk(source_path):\n",
    "    path_from_current_root = root.split(source_path, 1).pop()\n",
    "    create_folder = os.path.join(destination_path,path_from_current_root)\n",
    "    os.makedirs(create_folder, exist_ok = True)\n",
    "    for file in files:\n",
    "        try:\n",
    "            file_path = os.path.join(root,file)\n",
    "            if list(filter(file.lower().endswith, img_file_formats)) != []:\n",
    "                files_is_duplicate = is_duplicate(os.path.join(root,file))\n",
    "                if not files_is_duplicate:\n",
    "                    shutil.copy(file_path, os.path.join(destination_path, path_from_current_root))\n",
    "                    files_copied += 1\n",
    "                    sys.stdout.write('\\r')\n",
    "                    sys.stdout.write(str(files_copied) + \" files copied.\")\n",
    "                    sys.stdout.flush()\n",
    "                else:\n",
    "                    duplicate_files += 1\n",
    "        except:\n",
    "            logging.error(str(os.path.join(root, file)))\n",
    "            \n",
    "            \n",
    "                \n",
    "print(str(files_copied) + \" image files copied in total.\")\n",
    "print(str(duplicate_files) + \" duplicate files were ignored.\")"
   ]
  }
 ],
 "metadata": {
  "kernelspec": {
   "display_name": "Python 3",
   "language": "python",
   "name": "python3"
  },
  "language_info": {
   "codemirror_mode": {
    "name": "ipython",
    "version": 3
   },
   "file_extension": ".py",
   "mimetype": "text/x-python",
   "name": "python",
   "nbconvert_exporter": "python",
   "pygments_lexer": "ipython3",
   "version": "3.7.5"
  }
 },
 "nbformat": 4,
 "nbformat_minor": 4
}
